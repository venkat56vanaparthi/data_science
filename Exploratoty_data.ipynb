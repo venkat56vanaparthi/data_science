{
 "cells": [
  {
   "cell_type": "code",
   "execution_count": null,
   "id": "e58209b2-0e84-437a-ab62-3d93c0f30eb6",
   "metadata": {},
   "outputs": [],
   "source": [
    "#Array --> a one dimensional container for elements that are all of the same data type\n",
    "#Matrix --> a Two dimensional container for elements that are stored in an array\n"
   ]
  },
  {
   "cell_type": "code",
   "execution_count": 2,
   "id": "0a75f238-9230-4906-a035-df3412ddef18",
   "metadata": {},
   "outputs": [],
   "source": [
    "#using numpy to pperform arithematic operations on data\n",
    "import numpy as np\n",
    "from numpy.random import randn"
   ]
  },
  {
   "cell_type": "code",
   "execution_count": 3,
   "id": "0bf4bfa0-5eec-4a54-961a-30ee706d3836",
   "metadata": {},
   "outputs": [],
   "source": [
    "np.set_printoptions(precision=2)"
   ]
  },
  {
   "cell_type": "code",
   "execution_count": 5,
   "id": "8394348c-06fc-4711-8165-48ae4486ddc7",
   "metadata": {},
   "outputs": [
    {
     "data": {
      "text/plain": [
       "array([1, 2, 3, 4, 5, 6])"
      ]
     },
     "execution_count": 5,
     "metadata": {},
     "output_type": "execute_result"
    }
   ],
   "source": [
    "#create an array\n",
    "a = np.array([1, 2, 3, 4, 5, 6])\n",
    "a"
   ]
  },
  {
   "cell_type": "code",
   "execution_count": 7,
   "id": "fdbf00dc-470a-4da5-b9c3-c697e7bc8bed",
   "metadata": {},
   "outputs": [
    {
     "data": {
      "text/plain": [
       "array([[10, 20, 30],\n",
       "       [40, 50, 60]])"
      ]
     },
     "execution_count": 7,
     "metadata": {},
     "output_type": "execute_result"
    }
   ],
   "source": [
    "b = np.array([[10, 20, 30], [40, 50, 60]])\n",
    "b"
   ]
  },
  {
   "cell_type": "code",
   "execution_count": 8,
   "id": "b1d49c73-7fb1-4b2e-95fd-6cd9dbb8116e",
   "metadata": {},
   "outputs": [
    {
     "data": {
      "text/plain": [
       "array([  8.22,  36.97, -30.23, -21.28, -34.45,  -8.  ])"
      ]
     },
     "execution_count": 8,
     "metadata": {},
     "output_type": "execute_result"
    }
   ],
   "source": [
    "#create an array via assignment\n",
    "np.random.seed(25)\n",
    "c = 36*np.random.randn(6)\n",
    "c"
   ]
  },
  {
   "cell_type": "code",
   "execution_count": 9,
   "id": "4115fc28-d161-4b64-87a1-d8cc72ed8530",
   "metadata": {},
   "outputs": [
    {
     "data": {
      "text/plain": [
       "array([ 1,  2,  3,  4,  5,  6,  7,  8,  9, 10, 11, 12, 13, 14, 15, 16, 17,\n",
       "       18, 19, 20, 21, 22, 23, 24, 25, 26, 27, 28, 29, 30, 31, 32, 33, 34])"
      ]
     },
     "execution_count": 9,
     "metadata": {},
     "output_type": "execute_result"
    }
   ],
   "source": [
    "d = np.arange(1, 35)\n",
    "d"
   ]
  },
  {
   "cell_type": "code",
   "execution_count": 10,
   "id": "6808c532-e545-401a-a799-b80969692fe5",
   "metadata": {},
   "outputs": [
    {
     "data": {
      "text/plain": [
       "array([10, 20, 30, 40, 50, 60])"
      ]
     },
     "execution_count": 10,
     "metadata": {},
     "output_type": "execute_result"
    }
   ],
   "source": [
    "#multiplying matrices and basic liner algebra\n",
    "a*10"
   ]
  },
  {
   "cell_type": "code",
   "execution_count": 11,
   "id": "d4d592a1-b84f-4c4e-bfd5-73ba2b00d04b",
   "metadata": {},
   "outputs": [
    {
     "data": {
      "text/plain": [
       "array([  9.22,  38.97, -27.23, -17.28, -29.45,  -2.  ])"
      ]
     },
     "execution_count": 11,
     "metadata": {},
     "output_type": "execute_result"
    }
   ],
   "source": [
    "c+a"
   ]
  },
  {
   "cell_type": "code",
   "execution_count": 12,
   "id": "e90b29c3-a293-4242-a5cf-da12928fe36d",
   "metadata": {},
   "outputs": [
    {
     "data": {
      "text/plain": [
       "array([  7.22,  34.97, -33.23, -25.28, -39.45, -14.  ])"
      ]
     },
     "execution_count": 12,
     "metadata": {},
     "output_type": "execute_result"
    }
   ],
   "source": [
    "c-a"
   ]
  },
  {
   "cell_type": "code",
   "execution_count": null,
   "id": "ebc78e47-0ea1-4b8e-bd5e-39d310b50fd8",
   "metadata": {},
   "outputs": [],
   "source": []
  }
 ],
 "metadata": {
  "kernelspec": {
   "display_name": "Python 3 (ipykernel)",
   "language": "python",
   "name": "python3"
  },
  "language_info": {
   "codemirror_mode": {
    "name": "ipython",
    "version": 3
   },
   "file_extension": ".py",
   "mimetype": "text/x-python",
   "name": "python",
   "nbconvert_exporter": "python",
   "pygments_lexer": "ipython3",
   "version": "3.12.1"
  }
 },
 "nbformat": 4,
 "nbformat_minor": 5
}
