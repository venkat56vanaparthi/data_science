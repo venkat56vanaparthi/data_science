{
 "cells": [
  {
   "cell_type": "code",
   "execution_count": null,
   "id": "c6b79c90-c07f-4b71-a7ca-c034c18be713",
   "metadata": {},
   "outputs": [],
   "source": [
    "#Data visualization\n",
    "#data insights cannot be converted to business value if they are not communicated effectivly\n",
    "#Data visualisation is the process of transforming data in the form of graphs, charts, or any other form of visual scheme.\n",
    "#purpose of data visualisation is to explore data and to extract useful information from it.\n"
   ]
  },
  {
   "cell_type": "code",
   "execution_count": null,
   "id": "2a926786-30cd-46cc-ac43-753fdf8ef372",
   "metadata": {},
   "outputs": [],
   "source": [
    "#Different types of data visualization\n",
    "#-->Data storytelling - for presentational to organizational decision-makers.\n",
    "#-->Data showcasing - for presentations to analysts, scientists, mathematicians and engineers.\n",
    "#-->Data art - for presentations to activists or the general public\n"
   ]
  },
  {
   "cell_type": "code",
   "execution_count": null,
   "id": "49a9bc9c-4898-48ae-bcef-b60d003ef0f8",
   "metadata": {},
   "outputs": [],
   "source": [
    "#Data storytelling\n",
    "\n",
    "#data visualization should be:\n",
    "#--> Clutter-free\n",
    "#--> Highly focused\n",
    "\n",
    "#intended audience:\n",
    "#--> Non analyst\n",
    "#--> Nontechnical business managers\n",
    "\n",
    "#product types\n",
    "#--> Static images\n",
    "#--> Simple interactive dashboard"
   ]
  },
  {
   "cell_type": "code",
   "execution_count": null,
   "id": "4f047515-8161-4a9b-9fda-e0e42333f809",
   "metadata": {},
   "outputs": [],
   "source": [
    "#Data Showcasing\n",
    "\n",
    "#data visualiztion should be:\n",
    "#--> Highly contextual\n",
    "#--> Open-ended\n",
    "\n",
    "#intended audiences\n",
    "#--> Analysts, quants\n",
    "#--> Engineers, mathematicians, scientists\n",
    "\n",
    "#product types\n",
    "#--> Static images\n",
    "#--> Interactive dashboards"
   ]
  },
  {
   "cell_type": "code",
   "execution_count": null,
   "id": "1fb47df0-4c81-4f03-b186-9f23a033943d",
   "metadata": {},
   "outputs": [],
   "source": [
    "#Data Art\n",
    "\n",
    "#Displaying data art\n",
    "#--> Attention-getting\n",
    "#--> Creative, controversial\n",
    "\n",
    "#intended audience:\n",
    "#--> Idealists, dreamers, artists\n",
    "#--> Social activists\n",
    "\n",
    "#Product types:\n",
    "#--> Static images"
   ]
  }
 ],
 "metadata": {
  "kernelspec": {
   "display_name": "Python 3 (ipykernel)",
   "language": "python",
   "name": "python3"
  },
  "language_info": {
   "codemirror_mode": {
    "name": "ipython",
    "version": 3
   },
   "file_extension": ".py",
   "mimetype": "text/x-python",
   "name": "python",
   "nbconvert_exporter": "python",
   "pygments_lexer": "ipython3",
   "version": "3.12.1"
  }
 },
 "nbformat": 4,
 "nbformat_minor": 5
}
